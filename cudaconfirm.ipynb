{
 "cells": [
  {
   "cell_type": "code",
   "execution_count": 1,
   "metadata": {},
   "outputs": [
    {
     "name": "stdout",
     "output_type": "stream",
     "text": [
      "Device 0: NVIDIA GeForce RTX 3070 Laptop GPU\n",
      "12.4\n",
      "CompletedProcess(args='nvcc --version', returncode=0, stdout='nvcc: NVIDIA (R) Cuda compiler driver\\nCopyright (c) 2005-2024 NVIDIA Corporation\\nBuilt on Fri_Jun_14_16:44:19_Pacific_Daylight_Time_2024\\nCuda compilation tools, release 12.6, V12.6.20\\nBuild cuda_12.6.r12.6/compiler.34431801_0\\n', stderr='')\n",
      "if the prompt don't show cuda toolkit version, you should install cuda toolkit.\n",
      "90100\n"
     ]
    }
   ],
   "source": [
    "import torch;\n",
    "import subprocess;\n",
    "import platform;\n",
    "class OSCUDA():\n",
    "    def __init__(self):\n",
    "        \"\"\"torch.version.cuda  # PyTorch에 내장된 CUDA 버전\n",
    "            torch.backends.cudnn.version()  # cuDNN 버전\n",
    "            torch.cuda.is_available()  # True여야 정상\n",
    "            torch.cuda.device_count()  # 사용 가능한 GPU 개수\n",
    "            torch.cuda.get_device_name(0)  # 첫 번째 GPU 이름\"\"\"\n",
    "        self.syscuda_info();\n",
    "        self.torchcuda_info();\n",
    "        self.cudatoolkit();\n",
    "        self.cudnn_info();\n",
    "            \n",
    "    def oskind(self):\n",
    "        osname=platform.system();\n",
    "        major_os=[\"Windows\", \"Linux\", \"Darwin\"];\n",
    "        if osname not in major_os:\n",
    "            return \"unknown\";\n",
    "        else:\n",
    "            return osname;\n",
    "    def syscuda_info(self):\n",
    "        if torch.cuda.is_available():\n",
    "            str=[];\n",
    "            for i in range(torch.cuda.device_count()):\n",
    "                str.append(f\"Device {i}: {torch.cuda.get_device_name(i)}\");\n",
    "                print(str[i]);\n",
    "        else:\n",
    "            str=\"No device is available to CUDA\"\n",
    "        return torch.cuda.is_available();\n",
    "    \n",
    "    def torchcuda_info(self):\n",
    "        try:\n",
    "            syscudaver=float(torch.version.cuda);\n",
    "        except:\n",
    "            syscudaver=\"using non-CUDA version of pytorch(default of Anaconda)\"\n",
    "            print(\"CUDA-torch install command(in Anaconda Prompt, *** is CUDA version without decimal): pip3 install torch torchvision torchaudio --index-url https://download.pytorch.org/whl/cu***\");\n",
    "        print(syscudaver);\n",
    "        return syscudaver;\n",
    "        \n",
    "    def cudnn_info(self):\n",
    "        dnnver=torch.backends.cudnn.version();\n",
    "        if not isinstance(dnnver, int) or dnnver==0:\n",
    "            message=\"need to install CUDNN from NVIDIA to finish setup\"\n",
    "        else:\n",
    "            message=dnnver;\n",
    "        print(message);\n",
    "        return message;\n",
    "    \n",
    "    def cudatoolkit(self):\n",
    "        if self.oskind() in [\"Windows\", \"Linux\"]:\n",
    "            prompt=subprocess.run(\"nvcc --version\", shell=True, capture_output=True, text=True);\n",
    "            \n",
    "        elif self.oskind()==\"Darwin\":\n",
    "            prompt=\"macOS stopped CUDA support\"\n",
    "        else:\n",
    "            prompt=\"unknown OS\"\n",
    "        print(f\"{prompt}\");\n",
    "        print(\"if the prompt don't show cuda toolkit version, you should install cuda toolkit.\");\n",
    "        \n",
    "checking=OSCUDA();\n"
   ]
  }
 ],
 "metadata": {
  "kernelspec": {
   "display_name": "base",
   "language": "python",
   "name": "python3"
  },
  "language_info": {
   "codemirror_mode": {
    "name": "ipython",
    "version": 3
   },
   "file_extension": ".py",
   "mimetype": "text/x-python",
   "name": "python",
   "nbconvert_exporter": "python",
   "pygments_lexer": "ipython3",
   "version": "3.12.7"
  }
 },
 "nbformat": 4,
 "nbformat_minor": 2
}
